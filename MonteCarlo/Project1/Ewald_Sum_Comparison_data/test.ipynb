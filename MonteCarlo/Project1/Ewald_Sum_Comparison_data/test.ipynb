{
 "cells": [
  {
   "cell_type": "code",
   "execution_count": 2,
   "metadata": {},
   "outputs": [],
   "source": [
    "def dist_2pt(x1,y1,x2,y2):\n",
    "    return ((x1-x2)**2+(y1-y2)**2)**(1/2)\n",
    "\n",
    "def vec_mul(x1,y1,x2,y2):\n",
    "    return x1*x2+y1*y2\n",
    "\n",
    "def xof(i):\n",
    "    return i%Lx\n",
    "\n",
    "def yof(i):\n",
    "    return int(i/Lx)"
   ]
  },
  {
   "cell_type": "code",
   "execution_count": 23,
   "metadata": {},
   "outputs": [],
   "source": [
    "def naive_pi(i,j,m,cutoff = 1e-4):\n",
    "    res = 0\n",
    "    idx = 0\n",
    "    loop = True\n",
    "    calc = 0\n",
    "    arr = [0]\n",
    "    while loop :\n",
    "        for gg in range(idx+1):\n",
    "            nx = gg\n",
    "            ny = idx-gg\n",
    "            for kk in range(2-(nx==0)):\n",
    "                for ll in range(2-(ny==0)):\n",
    "                    calc += 1\n",
    "                    # print(xof(i)-xof(j),yof(i)-yof(j),nx*Lx*(1-2*kk),ny*Ly*(1-2*ll))\n",
    "                    inv_dist = dist_2pt(xof(i)-xof(j),yof(i)-yof(j),nx*Lx*(1-2*kk),ny*Ly*(1-2*ll))**(-m)\n",
    "                    if(inv_dist < cutoff): ## default : 1e-7 (float precision)\n",
    "                        print(nx,ny,inv_dist,calc)\n",
    "                        loop = False\n",
    "                        break\n",
    "                    # print(nx*(1-2*kk),ny*(1-2*ll),inv_dist)\n",
    "                    res += inv_dist\n",
    "                    arr[idx] += inv_dist\n",
    "        arr.append(0)\n",
    "        idx += 1\n",
    "    arr.pop()\n",
    "    return res,arr,idx-1,calc"
   ]
  },
  {
   "cell_type": "code",
   "execution_count": 26,
   "metadata": {},
   "outputs": [
    {
     "name": "stdout",
     "output_type": "stream",
     "text": [
      "0 10 9.999990000009998e-07 182\n",
      "10 0 9.98002996004994e-07 219\n"
     ]
    },
    {
     "data": {
      "text/plain": [
       "(1.0015851854120221,\n",
       " [1.0,\n",
       "  0.0004000400120012002,\n",
       "  0.0003000124996874797,\n",
       "  0.0002044481383162266,\n",
       "  0.00015500158125759725,\n",
       "  0.00012459809925998724,\n",
       "  0.00010410303676785451,\n",
       "  8.937139204620539e-05,\n",
       "  7.827961179725053e-05,\n",
       "  6.963041704347175e-05,\n",
       "  5.9700623846030763e-05,\n",
       "  0],\n",
       " 10,\n",
       " 220)"
      ]
     },
     "execution_count": 26,
     "metadata": {},
     "output_type": "execute_result"
    }
   ],
   "source": [
    "Lx, Ly = 100,100\n",
    "naive_pi(1,2,2,1e-6)"
   ]
  }
 ],
 "metadata": {
  "kernelspec": {
   "display_name": "Python 3.6.9 64-bit",
   "language": "python",
   "name": "python3"
  },
  "language_info": {
   "codemirror_mode": {
    "name": "ipython",
    "version": 3
   },
   "file_extension": ".py",
   "mimetype": "text/x-python",
   "name": "python",
   "nbconvert_exporter": "python",
   "pygments_lexer": "ipython3",
   "version": "3.6.9"
  },
  "orig_nbformat": 4,
  "vscode": {
   "interpreter": {
    "hash": "31f2aee4e71d21fbe5cf8b01ff0e069b9275f58929596ceb00d14d90e3e16cd6"
   }
  }
 },
 "nbformat": 4,
 "nbformat_minor": 2
}
