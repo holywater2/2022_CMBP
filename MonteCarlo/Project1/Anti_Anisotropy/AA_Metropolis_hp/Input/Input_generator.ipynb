{
 "cells": [
  {
   "cell_type": "code",
   "execution_count": 16,
   "metadata": {},
   "outputs": [
    {
     "name": "stdout",
     "output_type": "stream",
     "text": [
      "./AA_Metropolis_Jackknife.out ./Input/1018_0/data9.txt 101; ./AA_Metropolis_Jackknife.out ./Input/1018_0/data9.txt 101; ./AA_Metropolis_Jackknife.out ./Input/1018_0/data9.txt 101; ./AA_Metropolis_Jackknife.out ./Input/1018_0/data9.txt 101; ./AA_Metropolis_Jackknife.out ./Input/1018_0/data9.txt 101; "
     ]
    }
   ],
   "source": [
    "## Code 1: runnable code automation\n",
    "\n",
    "runnablefile = \"AA_Metropolis_Jackknife.out\"\n",
    "inputpath    = \"./Input\"\n",
    "folder_prefix= \"1018\"\n",
    "iterate      = 1\n",
    "idx = 0\n",
    "filenum = 101\n",
    "for j in range(5):\n",
    "    for i in range(iterate):\n",
    "        if filenum != 1:\n",
    "            print(\"./{} {}/{}_{}/data{}.txt {};\".format(runnablefile,inputpath,folder_prefix,idx,i+1+6+2,filenum),end=\" \")\n",
    "        else:\n",
    "            print(\"./{} {}/{}_{}/data{}.txt;\".format(runnablefile,inputpath,folder_prefix,idx,i+1+6+2),end=\" \")"
   ]
  },
  {
   "cell_type": "code",
   "execution_count": 18,
   "metadata": {},
   "outputs": [
    {
     "name": "stdout",
     "output_type": "stream",
     "text": [
      "./AA_Metropolis_Jackknife.out ./Input/1018_Sus0/data5.txt; ./AA_Metropolis_Jackknife.out ./Input/1018_Sus0/data6.txt; ./AA_Metropolis_Jackknife.out ./Input/1018_Sus0/data5.txt; ./AA_Metropolis_Jackknife.out ./Input/1018_Sus0/data6.txt; ./AA_Metropolis_Jackknife.out ./Input/1018_Sus0/data5.txt; ./AA_Metropolis_Jackknife.out ./Input/1018_Sus0/data6.txt; ./AA_Metropolis_Jackknife.out ./Input/1018_Sus0/data5.txt; ./AA_Metropolis_Jackknife.out ./Input/1018_Sus0/data6.txt; ./AA_Metropolis_Jackknife.out ./Input/1018_Sus0/data5.txt; ./AA_Metropolis_Jackknife.out ./Input/1018_Sus0/data6.txt; "
     ]
    }
   ],
   "source": [
    "## Code 1: runnable code automation\n",
    "\n",
    "runnablefile = \"AA_Metropolis_Jackknife.out\"\n",
    "inputpath    = \"./Input\"\n",
    "folder_prefix= \"1018\"\n",
    "iterate      = 2\n",
    "idx = 0\n",
    "filenum = 1\n",
    "for j in range(5):\n",
    "    for i in range(iterate):\n",
    "        if filenum != 1:\n",
    "            print(\"./{} {}/{}_{}/data{}.txt {};\".format(runnablefile,inputpath,folder_prefix,idx,i+1+4,filenum),end=\" \")\n",
    "        else:\n",
    "            print(\"./{} {}/{}_Sus{}/data{}.txt;\".format(runnablefile,inputpath,folder_prefix,idx,i+1+4),end=\" \")"
   ]
  },
  {
   "cell_type": "code",
   "execution_count": 20,
   "metadata": {},
   "outputs": [
    {
     "name": "stdout",
     "output_type": "stream",
     "text": [
      "./AA_Metropolis_autocorrelation_binning.out ./Input/1018_bbin0/data9.txt; ./AA_Metropolis_autocorrelation_binning.out ./Input/1018_bbin0/data10.txt; "
     ]
    }
   ],
   "source": [
    "## Code 1: runnable code automation\n",
    "\n",
    "runnablefile = \"AA_Metropolis_autocorrelation_binning.out\"\n",
    "inputpath    = \"./Input\"\n",
    "folder_prefix= \"1018\"\n",
    "iterate      = 2\n",
    "idx = 0\n",
    "for i in range(iterate):\n",
    "    print(\"./{} {}/{}_bbin{}/data{}.txt;\".format(runnablefile,inputpath,folder_prefix,idx,i+1+8),end=\" \")"
   ]
  },
  {
   "cell_type": "code",
   "execution_count": 21,
   "metadata": {},
   "outputs": [
    {
     "name": "stdout",
     "output_type": "stream",
     "text": [
      "./AA_Metropolis_correlation_Jackknife.out ./Input/1018_cor0/data7.txt 101; ./AA_Metropolis_correlation_Jackknife.out ./Input/1018_cor0/data8.txt 101; ./AA_Metropolis_correlation_Jackknife.out ./Input/1018_cor0/data7.txt 101; ./AA_Metropolis_correlation_Jackknife.out ./Input/1018_cor0/data8.txt 101; ./AA_Metropolis_correlation_Jackknife.out ./Input/1018_cor0/data7.txt 101; ./AA_Metropolis_correlation_Jackknife.out ./Input/1018_cor0/data8.txt 101; ./AA_Metropolis_correlation_Jackknife.out ./Input/1018_cor0/data7.txt 101; ./AA_Metropolis_correlation_Jackknife.out ./Input/1018_cor0/data8.txt 101; ./AA_Metropolis_correlation_Jackknife.out ./Input/1018_cor0/data7.txt 101; ./AA_Metropolis_correlation_Jackknife.out ./Input/1018_cor0/data8.txt 101; "
     ]
    }
   ],
   "source": [
    "## Code 1: runnable code automation\n",
    "\n",
    "runnablefile = \"AA_Metropolis_correlation_Jackknife.out\"\n",
    "inputpath    = \"./Input\"\n",
    "folder_prefix= \"1018\"\n",
    "iterate      = 2\n",
    "idx = 0\n",
    "filenum = 101\n",
    "for j in range(5):\n",
    "    for i in range(iterate):\n",
    "        if filenum != 1:\n",
    "            print(\"./{} {}/{}_cor{}/data{}.txt {};\".format(runnablefile,inputpath,folder_prefix,idx,i+1+6,filenum),end=\" \")\n",
    "        else:\n",
    "            print(\"./{} {}/{}_cor{}/data{}.txt;\".format(runnablefile,inputpath,folder_prefix,idx,i+1+7),end=\" \")"
   ]
  },
  {
   "cell_type": "code",
   "execution_count": 5,
   "metadata": {},
   "outputs": [],
   "source": [
    "from genericpath import exists\n",
    "import os\n",
    "\n",
    "def input_data_generator(save_path, folder_name, lattice, equil, mcs, Tsrt, Tfin, alpha,\n",
    "                        kBin = 21, kB = 0, kJx = 1, kJy = -1, isTinf = 0, Random = 0):\n",
    "    path_f = save_path + '/' + folder_name\n",
    "    if not os.path.exists(path_f):\n",
    "        os.mkdir(path_f)\n",
    "    for i, Lsize in enumerate(lattice):./AA_Metropolis_correlation_Jackknife.out ./Input/1018_0/data1.txt 101; ./AA_Metropolis_correlation_Jackknife.out ./Input/1018_0/data2.txt 101; ./AA_Metropolis_correlation_Jackknife.out ./Input/1018_0/data3.txt 101; ./AA_Metropolis_correlation_Jackknife.out ./Input/1018_0/data4.txt 101; ./AA_Metropolis_correlation_Jackknife.out ./Input/1018_0/data5.txt 101; ./AA_Metropolis_correlation_Jackknife.out ./Input/1018_0/data1.txt 101; ./AA_Metropolis_correlation_Jackknife.out ./Input/1018_0/data2.txt 101; ./AA_Metropolis_correlation_Jackknife.out ./Input/1018_0/data3.txt 101; ./AA_Metropolis_correlation_Jackknife.out ./Input/1018_0/data4.txt 101; ./AA_Metropolis_correlation_Jackknife.out ./Input/1018_0/data5.txt 101; ./AA_Metropolis_correlation_Jackknife.out ./Input/1018_0/data1.txt 101; ./AA_Metropolis_correlation_Jackknife.out ./Input/1018_0/data2.txt 101; ./AA_Metropolis_correlation_Jackknife.out ./Input/1018_0/data3.txt 101; ./AA_Metropolis_correlation_Jackknife.out ./Input/1018_0/data4.txt 101; ./AA_Metropolis_correlation_Jackknife.out ./Input/1018_0/data5.txt 101; ./AA_Metropolis_correlation_Jackknife.out ./Input/1018_0/data1.txt 101; ./AA_Metropolis_correlation_Jackknife.out ./Input/1018_0/data2.txt 101; ./AA_Metropolis_correlation_Jackknife.out ./Input/1018_0/data3.txt 101; ./AA_Metropolis_correlation_Jackknife.out ./Input/1018_0/data4.txt 101; ./AA_Metropolis_correlation_Jackknife.out ./Input/1018_0/data5.txt 101; ./AA_Metropolis_correlation_Jackknife.out ./Input/1018_0/data1.txt 101; ./AA_Metropolis_correlation_Jackknife.out ./Input/1018_0/data2.txt 101; ./AA_Metropolis_correlation_Jackknife.out ./Input/1018_0/data3.txt 101; ./AA_Metropolis_correlation_Jackknife.out ./Input/1018_0/data4.txt 101; ./AA_Metropolis_correlation_Jackknife.out ./Input/1018_0/data5.txt 101;ze))\n",
    "        file.write(\"kLy             = {}\\n\".format(Lsize))\n",
    "        file.write(\"\\n\")\n",
    "        file.write(\"kBin            = {}\\n\".format(kBin))\n",
    "        file.write(\"\\n\")\n",
    "        file.write(\"kB              = {}\\n\".format(kB))\n",
    "        file.write(\"kJx             = {}\\n\".format(kJx))\n",
    "        file.write(\"kJy             = {}\\n\".format(kJy))\n",
    "        file.write(\"alpha           = {}\\n\".format(alpha))\n",
    "        file.write(\"\\n\")\n",
    "        file.write(\"Tsrt            = {}\\n\".format(Tsrt))\n",
    "        file.write(\"Tfin            = {}\\n\".format(Tfin))\n",
    "        file.write(\"\\n\")\n",
    "        file.write(\"isTinf          = {}\\n\".format(isTinf))\n",
    "        file.write(\"Random          = {}\\n\".format(Random))\n",
    "        file.write(\"\\n\")\n",
    "        file.write(\"equil_time_base = {}\\n\".format(equil[Lsize]))\n",
    "        file.write(\"mcs             = {}\\n\".format(mcs[Lsize]))\n",
    "        file.close()"
   ]
  },
  {
   "cell_type": "code",
   "execution_count": 6,
   "metadata": {},
   "outputs": [],
   "source": [
    "## Code 2: Input configuration file generator\n",
    "\n",
    "path    = \"./\"\n",
    "# lattice = [16,32,48,64,80]\n",
    "lattice = [24,32,48,64,80,128]\n",
    "\n",
    "# alpha2   = [0.5,0.75,1.25,1.75,2.25,2.75,3.25,3.75,4]\n",
    "alpha2   = [2]\n",
    "\n",
    "equil_dict = {\n",
    "    6 :500000,\n",
    "    8 :500000,\n",
    "    12:500000,\n",
    "    16:500000,\n",
    "    24:500000,\n",
    "    32:500000,\n",
    "    48:500000,\n",
    "    64:500000,\n",
    "    80:5000000,\n",
    "    128:5000000\n",
    "    }\n",
    "\n",
    "mcs_dict   = {\n",
    "    6 :20000000,\n",
    "    8 :20000000,\n",
    "    12:20000000,\n",
    "    16:20000000,\n",
    "    24:20000000,\n",
    "    32:20000000,\n",
    "    48:20000000,\n",
    "    64:20000000,\n",
    "    80:20000000,\n",
    "    128:20000000\n",
    "    }\n",
    "\n",
    "alpha_crit_range_dict_ideal = {\n",
    "                    \"a=0.5\"  :[1.34,1.38],\n",
    "                    \"a=0.75\" :[1.50,1.54],\n",
    "                    # \"a=1\"    :[1.61,1.65], #checked\n",
    "                    \"a=1\"    :[1.625,1.635], #checked\n",
    "                    \"a=1.25\" :[1.71,1.75], #checked\n",
    "                    \"a=1.5\"  :[1.78,1.82], #checked\n",
    "                    \"a=1.75\" :[1.84,1.88],\n",
    "                    \"a=2\"    :[1.96,2.00], #checked\n",
    "                    # \"a=2\"    :[1.916,1.920], #checked\n",
    "                    # \"a=2\"    :[1.9176,1.9176], #checked\n",
    "                    \"a=2.25\" :[1.95,1.99],\n",
    "                    \"a=2.5\"  :[1.98,2.02], #checked\n",
    "                    \"a=2.75\" :[2.02,2.06],\n",
    "                    # \"a=3\"    :[2.07,2.11], #checked\n",
    "                    \"a=3\"    :[2.07,2.08],\n",
    "                    \"a=3.25\" :[2.08,2.12],\n",
    "                    \"a=3.5\"  :[2.10,2.14], #checked\n",
    "                    \"a=3.75\" :[2.13,2.17],\n",
    "                    \"a=4\"    :[2.15,2.19],\n",
    "                    \"a=100\"  :[2.25,2.29], #checked\n",
    "}\n",
    "\n",
    "for i in range(len(alpha2)):\n",
    "    folder_name = \"1018_Spec\" + str(i)\n",
    "    input_data_generator('.',folder_name,lattice,equil_dict,mcs_dict,*alpha_crit_range_dict_ideal[\"a=\"+str(alpha2[i])],alpha2[i],kBin=20)"
   ]
  },
  {
   "cell_type": "code",
   "execution_count": 7,
   "metadata": {},
   "outputs": [],
   "source": [
    "## Code 2: Input configuration file generator\n",
    "\n",
    "path    = \"./\"\n",
    "# lattice = [16,32,48,64,80]\n",
    "lattice = [6,8,12,16,24,32,48,64,80,128]\n",
    "\n",
    "# alpha2   = [0.5,0.75,1.25,1.75,2.25,2.75,3.25,3.75,4]\n",
    "alpha2   = [2]\n",
    "\n",
    "equil_dict = {\n",
    "    6 :0,\n",
    "    8 :0,\n",
    "    12:0,\n",
    "    16:0,\n",
    "    24:0,\n",
    "    32:0,\n",
    "    48:0,\n",
    "    64:0,\n",
    "    80:0,\n",
    "    128:0\n",
    "    }\n",
    "\n",
    "mcs_dict   = {\n",
    "    6 :2**25,\n",
    "    8 :2**25,\n",
    "    12:2**25,\n",
    "    16:2**25,\n",
    "    24:2**25,\n",
    "    32:2**25,\n",
    "    48:2**25,\n",
    "    64:2**25,\n",
    "    80:2**25,\n",
    "    128:2**25,\n",
    "    }\n",
    "\n",
    "\n",
    "alpha_crit_range_dict_ideal = {\n",
    "                    \"a=0.5\"  :[1.34,1.38],\n",
    "                    \"a=0.75\" :[1.50,1.54],\n",
    "                    # \"a=1\"    :[1.61,1.65], #checked\n",
    "                    \"a=1\"    :[1.630,1.630], #checked\n",
    "                    \"a=1.25\" :[1.71,1.75], #checked\n",
    "                    \"a=1.5\"  :[1.78,1.82], #checked\n",
    "                    \"a=1.75\" :[1.84,1.88],\n",
    "                    # \"a=2\"    :[1.90,1.94], #checked\n",
    "                    \"a=2\"    :[1.920,1.920], #checked\n",
    "                    \"a=2.25\" :[1.95,1.99],\n",
    "                    \"a=2.5\"  :[1.98,2.02], #checked\n",
    "                    \"a=2.75\" :[2.02,2.06],\n",
    "                    # \"a=3\"    :[2.07,2.11], #checked\n",
    "                    \"a=3\"    :[2.075,2.075],\n",
    "                    \"a=3.25\" :[2.08,2.12],\n",
    "                    \"a=3.5\"  :[2.10,2.14], #checked\n",
    "                    \"a=3.75\" :[2.13,2.17],\n",
    "                    \"a=4\"    :[2.15,2.19],\n",
    "                    \"a=100\"  :[2.25,2.29], #checked\n",
    "}\n",
    "\n",
    "for i in range(len(alpha2)):\n",
    "    folder_name = \"1018_bbin\" + str(i)\n",
    "    input_data_generator('.',folder_name,lattice,equil_dict,mcs_dict,*alpha_crit_range_dict_ideal[\"a=\"+str(alpha2[i])],alpha2[i],kBin=10)"
   ]
  },
  {
   "cell_type": "code",
   "execution_count": null,
   "metadata": {},
   "outputs": [],
   "source": []
  }
 ],
 "metadata": {
  "kernelspec": {
   "display_name": "Python 3.8.10 64-bit",
   "language": "python",
   "name": "python3"
  },
  "language_info": {
   "codemirror_mode": {
    "name": "ipython",
    "version": 3
   },
   "file_extension": ".py",
   "mimetype": "text/x-python",
   "name": "python",
   "nbconvert_exporter": "python",
   "pygments_lexer": "ipython3",
   "version": "3.8.10"
  },
  "orig_nbformat": 4,
  "vscode": {
   "interpreter": {
    "hash": "916dbcbb3f70747c44a77c7bcd40155683ae19c65e1c03b4aa3499c5328201f1"
   }
  }
 },
 "nbformat": 4,
 "nbformat_minor": 2
}
