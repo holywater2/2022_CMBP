{
 "cells": [
  {
   "cell_type": "code",
   "execution_count": 67,
   "metadata": {},
   "outputs": [],
   "source": [
    "import numpy as np\n",
    "import matplotlib.pyplot as plt"
   ]
  },
  {
   "cell_type": "code",
   "execution_count": 68,
   "metadata": {},
   "outputs": [],
   "source": [
    "# Generating all possible set of n*n spin configuration and save it into {out} parameter\n",
    "# O(2^{n*n})\n",
    "\n",
    "def generator(out,i,j,inp,n=5):\n",
    "    if(j >= n) :\n",
    "        j = 0\n",
    "        i += 1\n",
    "    if(i >= n) :\n",
    "        inp0 = np.copy(inp)\n",
    "        out.append(inp0)\n",
    "        return \n",
    "    generator(out,i,j+1,inp,n)\n",
    "    inp[i,j] *= -1\n",
    "    generator(out,i,j+1,inp,n)\n",
    "    inp[i,j] *= -1"
   ]
  },
  {
   "cell_type": "code",
   "execution_count": 69,
   "metadata": {},
   "outputs": [],
   "source": [
    "# without J coefficient\n",
    "\n",
    "def naive_calc_H(spin_conf):\n",
    "    res = 0\n",
    "    N = len(spin_conf[0])\n",
    "    for i in range(N):\n",
    "        for j in range(N-1):\n",
    "            res += spin_conf[i][j]*spin_conf[i][j+1]\n",
    "        if(i == 0) : continue\n",
    "        for j in range(N):\n",
    "            if(j==0) :\n",
    "                res += spin_conf[i][j]*(spin_conf[i-1][j] + spin_conf[i-1][j+1])\n",
    "            elif(j==N-1) :\n",
    "                res += spin_conf[i][j]*(spin_conf[i-1][j] + spin_conf[i-1][j-1])\n",
    "            else :\n",
    "                res += spin_conf[i][j]*(spin_conf[i-1][j] + spin_conf[i-1][j-1] + spin_conf[i-1][j+1])\n",
    "    return res*-1"
   ]
  },
  {
   "cell_type": "code",
   "execution_count": 70,
   "metadata": {},
   "outputs": [],
   "source": [
    "# without J coefficient\n",
    "\n",
    "def naive_calc_H2(sc): #spin configuration array\n",
    "    res = 0\n",
    "    N = len(sc[0])\n",
    "    for i in range(N):\n",
    "        for j in range(N):\n",
    "            sum = 0\n",
    "            sum += sc[i-1][j] + sc[i][j-1] + sc[(i+1)%N][j] + sc[i][(j+1)%N]\n",
    "            res += sc[i][j]*sum\n",
    "    return res*-1"
   ]
  },
  {
   "cell_type": "code",
   "execution_count": 71,
   "metadata": {},
   "outputs": [],
   "source": [
    "# without J coefficient\n",
    "\n",
    "def naive_calc_H3(sc): #spin configuration array\n",
    "    res = 0\n",
    "    N = len(sc[0])\n",
    "    for i in range(N*N):\n",
    "        nn = i + 1\n",
    "        if(nn >= N*N) : nn -= N*N\n",
    "        sum = sc[nn%N][int(nn/N)]\n",
    "\n",
    "        nn = i - 1\n",
    "        if(nn < 0) : nn += N*N\n",
    "        sum += sc[nn%N][int(nn/N)]\n",
    "        # print(nn%N,int(nn/N))\n",
    "        \n",
    "        nn = i + N\n",
    "        if(nn >= N*N) : nn -= N*N\n",
    "        sum += sc[nn%N][int(nn/N)]\n",
    "\n",
    "        nn = i - N\n",
    "        if(nn < 0) : nn += N*N\n",
    "        sum += sc[nn%N][int(nn/N)]\n",
    "        \n",
    "        # print(sum, i)\n",
    "        res += sum*sc[i%N][int(i/N)]\n",
    "    # print(sc)\n",
    "    # print()\n",
    "\n",
    "    return res*-1"
   ]
  },
  {
   "cell_type": "code",
   "execution_count": 72,
   "metadata": {},
   "outputs": [],
   "source": [
    "# Assume that J/k = 1 for this case\n",
    "\n",
    "def partition_function(H,T,J=1):\n",
    "    # k = 1.38E-23 # boltzman constant\n",
    "    k = 1\n",
    "    return np.exp(-1*J*H/(k*T))"
   ]
  },
  {
   "cell_type": "code",
   "execution_count": 73,
   "metadata": {},
   "outputs": [],
   "source": [
    "# Generating all possible set of n*n spin configuration and save it into {out} parameter\n",
    "# O(2^{n*n})\n",
    "# Up/down symmetry를 위해서 첫 항을 1로 고정\n",
    "# result 2**(n*n-1)개의 element를 가진 list\n",
    "\n",
    "def generator_sym(out,inp,n=5,i=0,j=1):\n",
    "    if(j >= n) :\n",
    "        j = 0\n",
    "        i += 1\n",
    "    if(i >= n) :\n",
    "        inp0 = np.copy(inp)\n",
    "        out.append(inp0)\n",
    "        # Hout.append(naive_calc_H(inp0))\n",
    "        return \n",
    "    # generator_sym(out,Hout,inp,n,i,j+1)\n",
    "    generator_sym(out,inp,n,i,j+1)\n",
    "    inp[i,j] *= -1\n",
    "    # generator_sym(out,Hout,inp,n,i,j+1)\n",
    "    generator_sym(out,inp,n,i,j+1)\n",
    "    inp[i,j] *= -1\n",
    "\n",
    "# N*N Lattice configuration generator -> Easy to use\n",
    "\n",
    "def genNN(N):\n",
    "    res = []\n",
    "    Hres = []\n",
    "    # generator_sym(res,Hres,np.ones((N,N),dtype=np.int0),N)\n",
    "    generator_sym(res,np.ones((N,N),dtype=np.int0),N)\n",
    "    # return np.array(res), np.array(Hres)\n",
    "    return np.array(res) \n",
    "\n",
    "def gen_sum_si(inp):\n",
    "    return np.sum(np.sum(inp,axis=2),axis=1)"
   ]
  },
  {
   "cell_type": "code",
   "execution_count": 74,
   "metadata": {},
   "outputs": [
    {
     "name": "stdout",
     "output_type": "stream",
     "text": [
      "8 16 16\n"
     ]
    }
   ],
   "source": [
    "L22 = genNN(2)\n",
    "print(len(L22),2**4,2**4)\n",
    "# print(L55)"
   ]
  },
  {
   "cell_type": "code",
   "execution_count": 75,
   "metadata": {},
   "outputs": [],
   "source": [
    "HL22 = []\n",
    "for i in L22:\n",
    "    HL22.append(naive_calc_H3(i))\n",
    "HL22 = np.array(HL22)"
   ]
  },
  {
   "cell_type": "code",
   "execution_count": 85,
   "metadata": {},
   "outputs": [
    {
     "data": {
      "text/plain": [
       "array([-16,   0,   0,   0,   0,   8,   8,   0], dtype=int64)"
      ]
     },
     "execution_count": 85,
     "metadata": {},
     "output_type": "execute_result"
    }
   ],
   "source": [
    "HL22"
   ]
  },
  {
   "cell_type": "code",
   "execution_count": 77,
   "metadata": {},
   "outputs": [
    {
     "data": {
      "text/plain": [
       "array([[[ 1,  1],\n",
       "        [ 1,  1]],\n",
       "\n",
       "       [[ 1,  1],\n",
       "        [ 1, -1]],\n",
       "\n",
       "       [[ 1,  1],\n",
       "        [-1,  1]],\n",
       "\n",
       "       [[ 1,  1],\n",
       "        [-1, -1]],\n",
       "\n",
       "       [[ 1, -1],\n",
       "        [ 1,  1]],\n",
       "\n",
       "       [[ 1, -1],\n",
       "        [ 1, -1]],\n",
       "\n",
       "       [[ 1, -1],\n",
       "        [-1,  1]],\n",
       "\n",
       "       [[ 1, -1],\n",
       "        [-1, -1]]], dtype=int64)"
      ]
     },
     "execution_count": 77,
     "metadata": {},
     "output_type": "execute_result"
    }
   ],
   "source": [
    "L22"
   ]
  },
  {
   "cell_type": "code",
   "execution_count": 78,
   "metadata": {},
   "outputs": [],
   "source": [
    "ls = []\n",
    "for i in range(25):\n",
    "    T = 0.2*(i+1)\n",
    "    ZL22 = partition_function(HL22,T)\n",
    "    # print(ZL22)\n",
    "    ls.append(np.sum(gen_sum_si(L22) * ZL22)/np.sum(ZL22))"
   ]
  },
  {
   "cell_type": "code",
   "execution_count": 91,
   "metadata": {},
   "outputs": [
    {
     "data": {
      "text/plain": [
       "array([ 4,  2,  2,  0,  2,  0,  0, -2], dtype=int64)"
      ]
     },
     "execution_count": 91,
     "metadata": {},
     "output_type": "execute_result"
    }
   ],
   "source": [
    "gen_sum_si(L22)"
   ]
  },
  {
   "cell_type": "code",
   "execution_count": 96,
   "metadata": {},
   "outputs": [
    {
     "name": "stdout",
     "output_type": "stream",
     "text": [
      "2.216248953757404e+35\n",
      "9.4154106734808e+17\n",
      "1524916892511.5383\n",
      "1940660785.639161\n",
      "35544446.08203149\n",
      "2469754.507648526\n",
      "367646.3206316173\n",
      "88109.86317922687\n",
      "29007.83234336424\n",
      "11927.831948166913\n",
      "5765.89466124679\n",
      "3147.0879769096673\n",
      "1886.0944690235012\n",
      "1216.6703107301955\n",
      "832.508995559338\n",
      "597.6526364103064\n",
      "446.3833058435298\n",
      "344.6102308702088\n",
      "273.567999805362\n",
      "222.39260013257694\n",
      "184.51577510247867\n",
      "155.814289989405\n",
      "133.61327778111578\n",
      "116.1264995781045\n",
      "102.13012078843741\n"
     ]
    }
   ],
   "source": [
    "ls = []\n",
    "for i in range(25):\n",
    "    T = 0.2*(i+1)\n",
    "    ZL22 = partition_function(HL22,T)\n",
    "    # print(ZL22)\n",
    "    print(np.sum(gen_sum_si(L22) * ZL22))"
   ]
  },
  {
   "cell_type": "code",
   "execution_count": 97,
   "metadata": {},
   "outputs": [
    {
     "name": "stdout",
     "output_type": "stream",
     "text": [
      "2.3538526683702e+17\n",
      "9.4154106734808e+17\n",
      "4.0\n",
      "[ 9.41541067e+17  2.00000000e+00  2.00000000e+00  0.00000000e+00\n",
      "  2.00000000e+00  0.00000000e+00  0.00000000e+00 -2.00000000e+00]\n"
     ]
    }
   ],
   "source": [
    "ZL22 = partition_function(HL22,0.4)\n",
    "print(np.sum(ZL22))\n",
    "print(np.sum(gen_sum_si(L22) * ZL22))\n",
    "print(np.sum(gen_sum_si(L22) * ZL22)/np.sum(ZL22))\n",
    "\n",
    "print(gen_sum_si(L22) * ZL22)\n"
   ]
  },
  {
   "cell_type": "code",
   "execution_count": 98,
   "metadata": {},
   "outputs": [
    {
     "ename": "ValueError",
     "evalue": "max() arg is an empty sequence",
     "output_type": "error",
     "traceback": [
      "\u001b[1;31m---------------------------------------------------------------------------\u001b[0m",
      "\u001b[1;31mValueError\u001b[0m                                Traceback (most recent call last)",
      "\u001b[1;32m<ipython-input-98-268ea39add89>\u001b[0m in \u001b[0;36m<module>\u001b[1;34m\u001b[0m\n\u001b[0;32m      1\u001b[0m \u001b[0mT\u001b[0m \u001b[1;33m=\u001b[0m \u001b[1;33m[\u001b[0m\u001b[1;33m(\u001b[0m\u001b[0mi\u001b[0m\u001b[1;33m+\u001b[0m\u001b[1;36m1\u001b[0m\u001b[1;33m)\u001b[0m\u001b[1;33m*\u001b[0m\u001b[1;33m(\u001b[0m\u001b[1;36m0.2\u001b[0m\u001b[1;33m)\u001b[0m \u001b[1;32mfor\u001b[0m \u001b[0mi\u001b[0m \u001b[1;32min\u001b[0m \u001b[0mrange\u001b[0m\u001b[1;33m(\u001b[0m\u001b[1;36m25\u001b[0m\u001b[1;33m)\u001b[0m\u001b[1;33m]\u001b[0m\u001b[1;33m\u001b[0m\u001b[1;33m\u001b[0m\u001b[0m\n\u001b[1;32m----> 2\u001b[1;33m \u001b[0my\u001b[0m \u001b[1;33m=\u001b[0m \u001b[0mls\u001b[0m\u001b[1;33m/\u001b[0m\u001b[0mmax\u001b[0m\u001b[1;33m(\u001b[0m\u001b[0mls\u001b[0m\u001b[1;33m)\u001b[0m\u001b[1;33m\u001b[0m\u001b[1;33m\u001b[0m\u001b[0m\n\u001b[0m\u001b[0;32m      3\u001b[0m \u001b[1;33m\u001b[0m\u001b[0m\n\u001b[0;32m      4\u001b[0m \u001b[0mplt\u001b[0m\u001b[1;33m.\u001b[0m\u001b[0mstyle\u001b[0m\u001b[1;33m.\u001b[0m\u001b[0muse\u001b[0m\u001b[1;33m(\u001b[0m\u001b[1;34m'seaborn-whitegrid'\u001b[0m\u001b[1;33m)\u001b[0m\u001b[1;33m\u001b[0m\u001b[1;33m\u001b[0m\u001b[0m\n\u001b[0;32m      5\u001b[0m \u001b[0mplt\u001b[0m\u001b[1;33m.\u001b[0m\u001b[0mylim\u001b[0m\u001b[1;33m(\u001b[0m\u001b[1;36m0\u001b[0m\u001b[1;33m,\u001b[0m\u001b[1;36m1.1\u001b[0m\u001b[1;33m)\u001b[0m\u001b[1;33m\u001b[0m\u001b[1;33m\u001b[0m\u001b[0m\n",
      "\u001b[1;31mValueError\u001b[0m: max() arg is an empty sequence"
     ]
    }
   ],
   "source": [
    "T = [(i+1)*(0.2) for i in range(25)]\n",
    "y = ls/max(ls)\n",
    "\n",
    "plt.style.use('seaborn-whitegrid')\n",
    "plt.ylim(0,1.1)\n",
    "plt.xlim(0,5)\n",
    "plt.plot(T,y)"
   ]
  },
  {
   "cell_type": "markdown",
   "metadata": {},
   "source": [
    "----"
   ]
  },
  {
   "cell_type": "code",
   "execution_count": 80,
   "metadata": {},
   "outputs": [
    {
     "name": "stdout",
     "output_type": "stream",
     "text": [
      "16777216 16777216 33554432\n"
     ]
    }
   ],
   "source": [
    "L55 = genNN(5)\n",
    "print(len(L55),2**24,2**25)\n",
    "# print(L55)\n",
    "# about 70s"
   ]
  },
  {
   "cell_type": "code",
   "execution_count": 81,
   "metadata": {},
   "outputs": [],
   "source": [
    "HL55 = []\n",
    "for i in L55:\n",
    "    HL55.append(naive_calc_H3(i))\n",
    "HL55 = np.array(HL55)"
   ]
  },
  {
   "cell_type": "code",
   "execution_count": 82,
   "metadata": {},
   "outputs": [],
   "source": [
    "mL55 = []\n",
    "_N = 50\n",
    "for i in range(_N):\n",
    "    T = (5/_N)*(i+2)\n",
    "    ZL55 = partition_function(HL55,T)\n",
    "    # print(ZL22)\n",
    "    mL55.append(np.sum(gen_sum_si(L55) * ZL55)/np.sum(ZL55))"
   ]
  },
  {
   "cell_type": "code",
   "execution_count": 83,
   "metadata": {},
   "outputs": [
    {
     "data": {
      "image/png": "[encoded data removed]",
      "text/plain": [
       "<Figure size 432x288 with 1 Axes>"
      ]
     },
     "metadata": {},
     "output_type": "display_data"
    }
   ],
   "source": [
    "T = [(i+2)*(5/_N) for i in range(_N)]\n",
    "y = mL55/max(mL55)\n",
    "\n",
    "plt.style.use('seaborn-whitegrid')\n",
    "plt.ylim(0,1.1)\n",
    "plt.xlim(0,5)\n",
    "plt.plot(T,y)\n",
    "\n",
    "plt.ylabel('magnetization per spin m')\n",
    "plt.xlabel('temperature T')\n",
    "plt.show()"
   ]
  }
 ],
 "metadata": {
  "interpreter": {
   "hash": "04877cdb6d6ab02d72696c27475da033da97568d083fc8fbf1308ca0815a0db3"
  },
  "kernelspec": {
   "display_name": "Python 3.8.8 64-bit ('base': conda)",
   "name": "python3"
  },
  "language_info": {
   "codemirror_mode": {
    "name": "ipython",
    "version": 3
   },
   "file_extension": ".py",
   "mimetype": "text/x-python",
   "name": "python",
   "nbconvert_exporter": "python",
   "pygments_lexer": "ipython3",
   "version": "3.8.8"
  },
  "orig_nbformat": 4
 },
 "nbformat": 4,
 "nbformat_minor": 2
}
