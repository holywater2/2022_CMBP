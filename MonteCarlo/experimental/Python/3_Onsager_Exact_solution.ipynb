{
 "cells": [
  {
   "cell_type": "markdown",
   "metadata": {},
   "source": [
    "![nn](../Refrence_Images/Barkema_fig1.1.jpg)"
   ]
  },
  {
   "cell_type": "code",
   "execution_count": 79,
   "metadata": {},
   "outputs": [],
   "source": [
    "import numpy as np\n",
    "import matplotlib.pyplot as plt\n",
    "import scipy.integrate as integrate\n",
    "import mpmath as mp"
   ]
  },
  {
   "cell_type": "markdown",
   "metadata": {},
   "source": [
    "[Onsager's Exact solution](https://en.wikipedia.org/wiki/Square_lattice_Ising_model)\n",
    "\n",
    "#### The critical temperature $T_c$ is given by\n",
    "$$\\sinh \\frac{2J}{kT_c} = 1$$\n",
    "or\n",
    "$$\\frac{kT_c}{J} = \\frac{2}{\\ln\\left(1+\\sqrt{2}\\right)} \\approx 2.269$$\n",
    "\n",
    "\n",
    "#### Magnetization\n",
    "The spontaneous magnetization is, for $T < T_c(\\approx 2.27)$\n",
    "$$M = \\left[1-\\sinh^{-4} (2\\beta J)\\right]^{1/8}$$\n",
    "\n"
   ]
  },
  {
   "cell_type": "code",
   "execution_count": 30,
   "metadata": {},
   "outputs": [],
   "source": [
    "from time import perf_counter\n",
    "from numba import jit"
   ]
  },
  {
   "cell_type": "code",
   "execution_count": 33,
   "metadata": {},
   "outputs": [],
   "source": [
    "def pure_loop(m,T):\n",
    "    for i in range(len(m)):\n",
    "        T[i] = 2.26/bin*(i+1)\n",
    "        m[i] = (1-np.sinh(2*(1/T[i]))**-4)**(1/8)\n",
    "    return m,T\n",
    "\n",
    "@jit(nopython=True)\n",
    "def numba_loop(m,T):\n",
    "    for i in range(len(m)):\n",
    "        T[i] = 2.26/bin*(i+1)\n",
    "        m[i] = (1-np.sinh(2*(1/T[i]))**-4)**(1/8)\n",
    "    return m,T"
   ]
  },
  {
   "cell_type": "code",
   "execution_count": 136,
   "metadata": {},
   "outputs": [],
   "source": [
    "bin = 100\n",
    "T = np.zeros(bin)\n",
    "m = np.zeros_like(T)\n",
    "\n",
    "for i in range(len(m)):\n",
    "    T[i] = 2.26/bin*(i+1)\n",
    "    m[i] = (1-np.sinh(2*(1/T[i]))**-4)**(1/8) \n",
    "\n",
    "T = np.append(T,2/np.log(1+np.sqrt(2)))\n",
    "m = np.append(m,0)\n",
    "    "
   ]
  },
  {
   "cell_type": "code",
   "execution_count": 137,
   "metadata": {},
   "outputs": [
    {
     "data": {
      "image/png": "[encoded data removed]",
      "text/plain": [
       "<Figure size 432x288 with 1 Axes>"
      ]
     },
     "metadata": {},
     "output_type": "display_data"
    }
   ],
   "source": [
    "plt.cla()\n",
    "\n",
    "plt.style.use('seaborn-whitegrid')\n",
    "plt.ylim(0,1.1)\n",
    "plt.xlim(0,5)\n",
    "plt.axvline(x=2/np.log(1+np.sqrt(2)),c='r',lw=1,dashes=[2,2])\n",
    "plt.plot(T,m)\n",
    "\n",
    "plt.ylabel('magenetization per spin: m')\n",
    "plt.xlabel('Temperature T')\n",
    "plt.show()"
   ]
  },
  {
   "cell_type": "code",
   "execution_count": 100,
   "metadata": {},
   "outputs": [],
   "source": [
    "def C(T,J=1):\n",
    "    b = 1/T #beta\n",
    "    k = 2*np.sinh(2*b*J)/(np.cosh(2*b*J)**2)   #kappa\n",
    "    K1, _ = integrate.quad(lambda x: 1/np.sqrt(1-k**2*np.sin(x)**2),0,np.pi/2)\n",
    "    E1, _ = integrate.quad(lambda x: np.sqrt(1-k**2*np.sin(x)**2),0,np.pi/2)\n",
    "    tanh = np.tanh(2*b*J)\n",
    "    return 4/np.pi*((b*J/tanh)**2)*(K1-E1-(1-tanh**2)*(np.pi/2+(2*tanh**2-1)*K1)) # boltzman k = 1\n",
    "\n",
    "def C2(T,J=1):\n",
    "    b = 1/T\n",
    "    Tc = 2/np.log(1+np.sqrt(2))\n",
    "    return -2/np.pi*(2*J*b)**2*np.log(np.abs(1-T/Tc))\n",
    "\n",
    "def C3(T,J=1):\n",
    "    b = 1/T #beta\n",
    "    k = 2*np.sinh(2*b*J)/(np.cosh(2*b*J)**2)   #kappa\n",
    "    mp.mp.dps = 50\n",
    "    K1 = mp.quad(lambda x: 1/mp.sqrt(1-k**2*mp.sin(x)**2),[0,mp.pi/2])\n",
    "    E1 = mp.quad(lambda x: mp.sqrt(1-k**2*mp.sin(x)**2),[0,mp.pi/2])\n",
    "    tanh = np.tanh(2*b*J)\n",
    "    return 4/np.pi*((b*J/tanh)**2)*(K1-E1-(1-tanh**2)*(np.pi/2+(2*tanh**2-1)*K1)) # boltzman k = 1\n"
   ]
  },
  {
   "cell_type": "code",
   "execution_count": 93,
   "metadata": {},
   "outputs": [
    {
     "name": "stdout",
     "output_type": "stream",
     "text": [
      "2.269185314213022\n"
     ]
    }
   ],
   "source": [
    "print(2/np.log(1+np.sqrt(2)))"
   ]
  },
  {
   "cell_type": "code",
   "execution_count": 109,
   "metadata": {},
   "outputs": [
    {
     "name": "stdout",
     "output_type": "stream",
     "text": [
      "6.105144717475782 6.411498569803975 6.1051444513979223323497628796687447593215158923758\n"
     ]
    }
   ],
   "source": [
    "TT = 2.26918\n",
    "print(C(TT),C2(TT),C3(TT))"
   ]
  },
  {
   "cell_type": "code",
   "execution_count": 133,
   "metadata": {},
   "outputs": [],
   "source": [
    "bin = 200\n",
    "T2 = np.zeros(bin)\n",
    "c = np.zeros_like(T)\n",
    "\n",
    "for i in range(len(c)):\n",
    "    T2[i] = 5/bin*(i+1)\n",
    "    c[i] = C(T[i])    "
   ]
  },
  {
   "cell_type": "code",
   "execution_count": 139,
   "metadata": {},
   "outputs": [
    {
     "data": {
      "image/png": "[encoded data removed]",
      "text/plain": [
       "<Figure size 432x288 with 1 Axes>"
      ]
     },
     "metadata": {},
     "output_type": "display_data"
    }
   ],
   "source": [
    "plt.cla()\n",
    "\n",
    "plt.style.use('seaborn-whitegrid')\n",
    "plt.ylim(0,2)\n",
    "plt.xlim(0,5)\n",
    "plt.axvline(x=2/np.log(1+np.sqrt(2)),c='r',lw=1,dashes=[2,2])\n",
    "plt.plot(T2,c)\n",
    "plt.plot(T,m)\n",
    "\n",
    "\n",
    "plt.ylabel('Specific heat per spin: c')\n",
    "plt.xlabel('Temperature T')\n",
    "plt.show()"
   ]
  }
 ],
 "metadata": {
  "interpreter": {
   "hash": "87c3f15be3c85f538d700a76f359714c57c164184ccdfa3290b3addc7172752c"
  },
  "kernelspec": {
   "display_name": "Python 3.9.5 64-bit ('Lab0': conda)",
   "language": "python",
   "name": "python3"
  },
  "language_info": {
   "codemirror_mode": {
    "name": "ipython",
    "version": 3
   },
   "file_extension": ".py",
   "mimetype": "text/x-python",
   "name": "python",
   "nbconvert_exporter": "python",
   "pygments_lexer": "ipython3",
   "version": "3.8.8"
  },
  "orig_nbformat": 4
 },
 "nbformat": 4,
 "nbformat_minor": 2
}
