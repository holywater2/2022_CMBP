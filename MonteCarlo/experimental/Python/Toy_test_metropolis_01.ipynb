{
 "cells": [
  {
   "cell_type": "code",
   "execution_count": 1,
   "metadata": {},
   "outputs": [],
   "source": [
    "import numpy as np\n",
    "import matplotlib.pyplot as plt"
   ]
  },
  {
   "cell_type": "code",
   "execution_count": 2,
   "metadata": {},
   "outputs": [],
   "source": [
    "L = 5\n",
    "N = L*L\n",
    "J = 1\n",
    "B = 0\n",
    "sc = np.ones(N)"
   ]
  },
  {
   "cell_type": "code",
   "execution_count": 3,
   "metadata": {},
   "outputs": [],
   "source": [
    "def sweep(sc,func): # periodic\n",
    "    res = 0\n",
    "    # print(self.sc)\n",
    "    for i in range(N):\n",
    "        sum = func(i)\n",
    "        res += J*sum*sc[i]\n",
    "\n",
    "    sigma = np.sum(sc)\n",
    "    HH = -res -B*sigma\n",
    "    return HH\n",
    "    # print(sigma,HH)\n",
    "    # for k in range(self.intv):\n",
    "    #     T = (5/self.intv)*(k+1)\n",
    "    #     ex = np.exp(-HH/T)\n",
    "    #     self.ZU[k] += np.absolute(sigma)*ex\n",
    "    #     self.Z[k] += ex\n",
    "    #     self.E[k] += HH*ex\n",
    "    #     self.E2[k] += HH*HH*ex\n",
    "\n",
    "def pbc(sc,i): #periodic boundary condition\n",
    "    sum = 0\n",
    "\n",
    "    nn = i -1\n",
    "    if((nn+1 % L) == 0) : nn += L\n",
    "    sum += sc[nn]\n",
    "\n",
    "    nn = i + 1\n",
    "    if(nn % L == 0): nn -= L\n",
    "    sum += sc[nn]\n",
    "\n",
    "    nn = i - L\n",
    "    if(nn < 0): nn += N\n",
    "    sum += sc[nn]\n",
    "\n",
    "    nn = i + L\n",
    "    if(nn >= N): nn -= N\n",
    "    sum += sc[nn]\n",
    "    return sum\n",
    "\n",
    "def pbc2(i): #periodic boundary condition\n",
    "    sum = 0\n",
    "\n",
    "    nn = i + 1\n",
    "    if(nn % L == 0): nn -= L\n",
    "    sum += sc[nn]\n",
    "\n",
    "    nn = i + L\n",
    "    if(nn >= N): nn -= N\n",
    "    sum += sc[nn]\n",
    "    return sum"
   ]
  },
  {
   "cell_type": "code",
   "execution_count": 57,
   "metadata": {},
   "outputs": [],
   "source": [
    "# choose random site from sc\n",
    "k = np.random.randint(N)"
   ]
  },
  {
   "cell_type": "code",
   "execution_count": 60,
   "metadata": {},
   "outputs": [
    {
     "name": "stdout",
     "output_type": "stream",
     "text": [
      "-50.0 -42.0\n"
     ]
    }
   ],
   "source": [
    "E_old = sweep(sc,pbc2)\n",
    "sc[k] *= -1\n",
    "E_new = sweep(sc,pbc2)\n",
    "sc[k] *= -1\n",
    "print(E_old,E_new)"
   ]
  },
  {
   "cell_type": "code",
   "execution_count": 81,
   "metadata": {},
   "outputs": [
    {
     "name": "stdout",
     "output_type": "stream",
     "text": [
      "8.0\n"
     ]
    }
   ],
   "source": [
    "t1 = pbc(sc,k)\n",
    "print(2*t1*sc[k])"
   ]
  },
  {
   "cell_type": "code",
   "execution_count": 87,
   "metadata": {},
   "outputs": [
    {
     "name": "stdout",
     "output_type": "stream",
     "text": [
      "0.01831563888873418\n"
     ]
    }
   ],
   "source": [
    "beta = 1/2\n",
    "if(E_new-E_old > 0) :\n",
    "    A = np.exp(-beta*(E_new-E_old))\n",
    "else:\n",
    "    A = 1\n",
    "print(A)\n"
   ]
  },
  {
   "cell_type": "code",
   "execution_count": 86,
   "metadata": {},
   "outputs": [
    {
     "name": "stdout",
     "output_type": "stream",
     "text": [
      "179\n"
     ]
    }
   ],
   "source": [
    "count = 0\n",
    "for i in range(10000):\n",
    "    if(np.random.rand() < A):\n",
    "        count += 1\n",
    "print(count)"
   ]
  },
  {
   "cell_type": "code",
   "execution_count": 115,
   "metadata": {},
   "outputs": [],
   "source": [
    "import csv\n",
    "a = open(\"../C++/Metropolis_c_5.csv\")"
   ]
  },
  {
   "cell_type": "code",
   "execution_count": 125,
   "metadata": {},
   "outputs": [
    {
     "name": "stdout",
     "output_type": "stream",
     "text": [
      "['0', '0.200000', '1.000000', '-0.000000', '25.000000', '625.000000', '-50.000000', '2500.000000']\n",
      "['1', '0.400000', '1.000000', '-0.000000', '25.000000', '625.000000', '-50.000000', '2500.000000']\n",
      "['2', '0.600000', '0.999964', '0.003752', '24.999111', '624.959556', '-49.997333', '2499.767111']\n",
      "['3', '0.800000', '0.998773', '0.071617', '24.969333', '623.888889', '-49.941111', '2495.260444']\n",
      "['4', '1.000000', '0.996800', '0.129910', '24.920000', '621.636444', '-49.784444', '2481.738667']\n",
      "['5', '1.200000', '0.981622', '0.494725', '24.540556', '607.243556', '-48.929333', '2411.889778']\n",
      "['6', '1.400000', '0.949573', '0.948493', '23.739333', '577.005778', '-47.120444', '2266.812444']\n",
      "['7', '1.600000', '0.874156', '1.609065', '21.853889', '511.334667', '-43.331111', '1980.565333']\n",
      "['8', '1.800000', '0.765707', '1.928569', '19.142667', '419.238667', '-37.793111', '1584.533333']\n",
      "['9', '2.000000', '0.689053', '1.715710', '17.226333', '355.140889', '-33.615111', '1301.546667']\n",
      "['10', '2.200000', '0.596404', '1.335263', '14.910111', '281.396444', '-29.016889', '1003.546667']\n",
      "['11', '2.400000', '0.519924', '1.046091', '12.998111', '225.241333', '-25.024667', '776.871111']\n",
      "['12', '2.600000', '0.465609', '0.774192', '11.640222', '185.878667', '-22.145111', '621.244444']\n",
      "['13', '2.800000', '0.416658', '0.599579', '10.416444', '154.041333', '-19.694667', '505.397333']\n",
      "['14', '3.000000', '0.385378', '0.448554', '9.634444', '133.667556', '-18.185556', '431.639111']\n",
      "['15', '3.200000', '0.367204', '0.380947', '9.180111', '122.268444', '-16.752667', '378.174222']\n",
      "['16', '3.400000', '0.336009', '0.305007', '8.400222', '104.861333', '-15.318444', '322.801778']\n",
      "['17', '3.600000', '0.319831', '0.249341', '7.995778', '95.024889', '-14.174444', '281.701333']\n",
      "['18', '3.800000', '0.309538', '0.214246', '7.738444', '89.305333', '-13.420889', '257.463111']\n",
      "['19', '4.000000', '0.293387', '0.181745', '7.334667', '81.214667', '-12.671111', '233.255111']\n",
      "['20', '4.200000', '0.282169', '0.160673', '7.054222', '75.508889', '-11.896222', '212.376889']\n",
      "['21', '4.400000', '0.272093', '0.135916', '6.802333', '70.143111', '-11.198000', '191.178667']\n",
      "['22', '4.600000', '0.267000', '0.121641', '6.675000', '67.164444', '-10.711333', '179.080889']\n",
      "['23', '4.800000', '0.262156', '0.108941', '6.553889', '65.252000', '-10.330889', '169.477333']\n",
      "['24', '5.000000', '0.256178', '0.100186', '6.404444', '62.392889', '-9.892444', '160.476444']\n"
     ]
    }
   ],
   "source": [
    "import csv\n",
    "a = open(\"../C++/Metropolis_c_5.csv\")\n",
    "\n",
    "rdr = csv.reader(a)\n",
    "T2 = np.zeros(25)\n",
    "M2 = np.zeros(25)\n",
    "C2 = np.zeros(25)\n",
    "\n",
    "c = 0\n",
    "for line in rdr:\n",
    "    if c == 0 :\n",
    "        c += 1\n",
    "        continue\n",
    "    print(line)\n",
    "    T2[c-1] = line[1]\n",
    "    M2[c-1] = line[2]\n",
    "    C2[c-1] = line[3]\n",
    "    c += 1"
   ]
  },
  {
   "cell_type": "code",
   "execution_count": 122,
   "metadata": {},
   "outputs": [
    {
     "data": {
      "text/plain": [
       "(array([0.2, 0.4, 0.6, 0.8, 1. , 1.2, 1.4, 1.6, 1.8, 2. , 2.2, 2.4, 2.6,\n",
       "        2.8, 3. , 3.2, 3.4, 3.6, 3.8, 4. , 4.2, 4.4, 4.6, 4.8, 5. ]),\n",
       " array([1.      , 1.      , 0.999964, 0.998773, 0.9968  , 0.981622,\n",
       "        0.949573, 0.874156, 0.765707, 0.689053, 0.596404, 0.519924,\n",
       "        0.465609, 0.416658, 0.385378, 0.367204, 0.336009, 0.319831,\n",
       "        0.309538, 0.293387, 0.282169, 0.272093, 0.267   , 0.262156,\n",
       "        0.256178]),\n",
       " array([-0.      , -0.      ,  0.003752,  0.071617,  0.12991 ,  0.494725,\n",
       "         0.948493,  1.609065,  1.928569,  1.71571 ,  1.335263,  1.046091,\n",
       "         0.774192,  0.599579,  0.448554,  0.380947,  0.305007,  0.249341,\n",
       "         0.214246,  0.181745,  0.160673,  0.135916,  0.121641,  0.108941,\n",
       "         0.100186]))"
      ]
     },
     "execution_count": 122,
     "metadata": {},
     "output_type": "execute_result"
    }
   ],
   "source": [
    "T2, M2, C2"
   ]
  },
  {
   "cell_type": "code",
   "execution_count": 126,
   "metadata": {},
   "outputs": [
    {
     "data": {
      "image/png": "[encoded data removed]",
      "text/plain": [
       "<Figure size 432x288 with 1 Axes>"
      ]
     },
     "metadata": {},
     "output_type": "display_data"
    }
   ],
   "source": [
    "plt.style.use('seaborn-whitegrid')\n",
    "plt.ylim(0,2)\n",
    "plt.xlim(0,5)\n",
    "plt.plot(T2,M2)\n",
    "plt.plot(T2,C2)\n",
    "\n",
    "plt.ylabel('Specific heat per spin m')\n",
    "plt.xlabel('Temperature T')\n",
    "plt.show()"
   ]
  },
  {
   "cell_type": "code",
   "execution_count": 127,
   "metadata": {},
   "outputs": [
    {
     "data": {
      "image/png": "[encoded data removed]",
      "text/plain": [
       "<Figure size 432x288 with 1 Axes>"
      ]
     },
     "metadata": {},
     "output_type": "display_data"
    }
   ],
   "source": [
    "plt.style.use('seaborn-whitegrid')\n",
    "plt.ylim(0,1.1)\n",
    "plt.xlim(0,5)\n",
    "plt.plot(T2,M2)\n",
    "\n",
    "plt.ylabel('Specific heat per spin m')\n",
    "plt.xlabel('Temperature T')\n",
    "plt.show()"
   ]
  },
  {
   "cell_type": "code",
   "execution_count": 5,
   "metadata": {},
   "outputs": [],
   "source": [
    "f = open('test.txt','w')"
   ]
  },
  {
   "cell_type": "code",
   "execution_count": 12,
   "metadata": {},
   "outputs": [
    {
     "data": {
      "text/plain": [
       "'1,1,1,1,1,1,1'"
      ]
     },
     "execution_count": 12,
     "metadata": {},
     "output_type": "execute_result"
    }
   ],
   "source": [
    "data = np.array([1,1,1,1,1,1,1])\n",
    "np.array2string(data, precision=2, separator=',',suppress_small=True)[1:-1]"
   ]
  }
 ],
 "metadata": {
  "interpreter": {
   "hash": "04877cdb6d6ab02d72696c27475da033da97568d083fc8fbf1308ca0815a0db3"
  },
  "kernelspec": {
   "display_name": "Python 3.8.8 64-bit ('base': conda)",
   "language": "python",
   "name": "python3"
  },
  "language_info": {
   "codemirror_mode": {
    "name": "ipython",
    "version": 3
   },
   "file_extension": ".py",
   "mimetype": "text/x-python",
   "name": "python",
   "nbconvert_exporter": "python",
   "pygments_lexer": "ipython3",
   "version": "3.9.5"
  },
  "orig_nbformat": 4
 },
 "nbformat": 4,
 "nbformat_minor": 2
}
